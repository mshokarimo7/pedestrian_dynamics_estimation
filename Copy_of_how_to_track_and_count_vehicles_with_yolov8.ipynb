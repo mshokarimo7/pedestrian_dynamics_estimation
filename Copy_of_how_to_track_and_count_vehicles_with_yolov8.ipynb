{
  "nbformat": 4,
  "nbformat_minor": 0,
  "metadata": {
    "colab": {
      "provenance": [],
      "gpuType": "T4",
      "collapsed_sections": [
        "_kSHFj8uQ9qe",
        "mPdB-v_hWxBy",
        "c_417m4g9XVd",
        "GDZPhB9kAAi3",
        "4Kox0oyMJ5bQ",
        "AAQxJUuGJ-B9",
        "ZKRACMhuIXfH",
        "2heo7TaaMRZg",
        "L_Z5dJNBJvTi",
        "0KChmNk675A2",
        "COn0J-F8KZas",
        "kpz5VnZiXabq",
        "8xpjGTajIsUI",
        "3TgcsFx9H-QV"
      ],
      "include_colab_link": true
    },
    "kernelspec": {
      "name": "python3",
      "display_name": "Python 3"
    },
    "language_info": {
      "name": "python"
    },
    "accelerator": "GPU",
    "widgets": {
      "application/vnd.jupyter.widget-state+json": {
        "19f980bca42e405bab7cec838235db3b": {
          "model_module": "@jupyter-widgets/controls",
          "model_name": "HBoxModel",
          "model_module_version": "1.5.0",
          "state": {
            "_dom_classes": [],
            "_model_module": "@jupyter-widgets/controls",
            "_model_module_version": "1.5.0",
            "_model_name": "HBoxModel",
            "_view_count": null,
            "_view_module": "@jupyter-widgets/controls",
            "_view_module_version": "1.5.0",
            "_view_name": "HBoxView",
            "box_style": "",
            "children": [
              "IPY_MODEL_a6144b6e34fc4b9c90f9425cf970da75",
              "IPY_MODEL_99eb6a8a8d4a4428a48e5a3deb80ff90",
              "IPY_MODEL_fddb1376a613433cb3b0c9c212502fae"
            ],
            "layout": "IPY_MODEL_cda3e315c8e342608027a9718d388fb0"
          }
        },
        "a6144b6e34fc4b9c90f9425cf970da75": {
          "model_module": "@jupyter-widgets/controls",
          "model_name": "HTMLModel",
          "model_module_version": "1.5.0",
          "state": {
            "_dom_classes": [],
            "_model_module": "@jupyter-widgets/controls",
            "_model_module_version": "1.5.0",
            "_model_name": "HTMLModel",
            "_view_count": null,
            "_view_module": "@jupyter-widgets/controls",
            "_view_module_version": "1.5.0",
            "_view_name": "HTMLView",
            "description": "",
            "description_tooltip": null,
            "layout": "IPY_MODEL_e997461688584db79337cfbcb216da72",
            "placeholder": "​",
            "style": "IPY_MODEL_8b8bb1a3f62f4a199fab9945ffba4dbf",
            "value": "100%"
          }
        },
        "99eb6a8a8d4a4428a48e5a3deb80ff90": {
          "model_module": "@jupyter-widgets/controls",
          "model_name": "FloatProgressModel",
          "model_module_version": "1.5.0",
          "state": {
            "_dom_classes": [],
            "_model_module": "@jupyter-widgets/controls",
            "_model_module_version": "1.5.0",
            "_model_name": "FloatProgressModel",
            "_view_count": null,
            "_view_module": "@jupyter-widgets/controls",
            "_view_module_version": "1.5.0",
            "_view_name": "ProgressView",
            "bar_style": "success",
            "description": "",
            "description_tooltip": null,
            "layout": "IPY_MODEL_a6a716a6cac24adf894f86b32a233433",
            "max": 179,
            "min": 0,
            "orientation": "horizontal",
            "style": "IPY_MODEL_f8aed8d6f140497aa0b12ab0c86729a0",
            "value": 179
          }
        },
        "fddb1376a613433cb3b0c9c212502fae": {
          "model_module": "@jupyter-widgets/controls",
          "model_name": "HTMLModel",
          "model_module_version": "1.5.0",
          "state": {
            "_dom_classes": [],
            "_model_module": "@jupyter-widgets/controls",
            "_model_module_version": "1.5.0",
            "_model_name": "HTMLModel",
            "_view_count": null,
            "_view_module": "@jupyter-widgets/controls",
            "_view_module_version": "1.5.0",
            "_view_name": "HTMLView",
            "description": "",
            "description_tooltip": null,
            "layout": "IPY_MODEL_df3c86cec9bd4f52a90cb2d4e444de96",
            "placeholder": "​",
            "style": "IPY_MODEL_dd7568908a714e0793534a4fe07cf012",
            "value": " 179/179 [00:11&lt;00:00, 17.29it/s]"
          }
        },
        "cda3e315c8e342608027a9718d388fb0": {
          "model_module": "@jupyter-widgets/base",
          "model_name": "LayoutModel",
          "model_module_version": "1.2.0",
          "state": {
            "_model_module": "@jupyter-widgets/base",
            "_model_module_version": "1.2.0",
            "_model_name": "LayoutModel",
            "_view_count": null,
            "_view_module": "@jupyter-widgets/base",
            "_view_module_version": "1.2.0",
            "_view_name": "LayoutView",
            "align_content": null,
            "align_items": null,
            "align_self": null,
            "border": null,
            "bottom": null,
            "display": null,
            "flex": null,
            "flex_flow": null,
            "grid_area": null,
            "grid_auto_columns": null,
            "grid_auto_flow": null,
            "grid_auto_rows": null,
            "grid_column": null,
            "grid_gap": null,
            "grid_row": null,
            "grid_template_areas": null,
            "grid_template_columns": null,
            "grid_template_rows": null,
            "height": null,
            "justify_content": null,
            "justify_items": null,
            "left": null,
            "margin": null,
            "max_height": null,
            "max_width": null,
            "min_height": null,
            "min_width": null,
            "object_fit": null,
            "object_position": null,
            "order": null,
            "overflow": null,
            "overflow_x": null,
            "overflow_y": null,
            "padding": null,
            "right": null,
            "top": null,
            "visibility": null,
            "width": null
          }
        },
        "e997461688584db79337cfbcb216da72": {
          "model_module": "@jupyter-widgets/base",
          "model_name": "LayoutModel",
          "model_module_version": "1.2.0",
          "state": {
            "_model_module": "@jupyter-widgets/base",
            "_model_module_version": "1.2.0",
            "_model_name": "LayoutModel",
            "_view_count": null,
            "_view_module": "@jupyter-widgets/base",
            "_view_module_version": "1.2.0",
            "_view_name": "LayoutView",
            "align_content": null,
            "align_items": null,
            "align_self": null,
            "border": null,
            "bottom": null,
            "display": null,
            "flex": null,
            "flex_flow": null,
            "grid_area": null,
            "grid_auto_columns": null,
            "grid_auto_flow": null,
            "grid_auto_rows": null,
            "grid_column": null,
            "grid_gap": null,
            "grid_row": null,
            "grid_template_areas": null,
            "grid_template_columns": null,
            "grid_template_rows": null,
            "height": null,
            "justify_content": null,
            "justify_items": null,
            "left": null,
            "margin": null,
            "max_height": null,
            "max_width": null,
            "min_height": null,
            "min_width": null,
            "object_fit": null,
            "object_position": null,
            "order": null,
            "overflow": null,
            "overflow_x": null,
            "overflow_y": null,
            "padding": null,
            "right": null,
            "top": null,
            "visibility": null,
            "width": null
          }
        },
        "8b8bb1a3f62f4a199fab9945ffba4dbf": {
          "model_module": "@jupyter-widgets/controls",
          "model_name": "DescriptionStyleModel",
          "model_module_version": "1.5.0",
          "state": {
            "_model_module": "@jupyter-widgets/controls",
            "_model_module_version": "1.5.0",
            "_model_name": "DescriptionStyleModel",
            "_view_count": null,
            "_view_module": "@jupyter-widgets/base",
            "_view_module_version": "1.2.0",
            "_view_name": "StyleView",
            "description_width": ""
          }
        },
        "a6a716a6cac24adf894f86b32a233433": {
          "model_module": "@jupyter-widgets/base",
          "model_name": "LayoutModel",
          "model_module_version": "1.2.0",
          "state": {
            "_model_module": "@jupyter-widgets/base",
            "_model_module_version": "1.2.0",
            "_model_name": "LayoutModel",
            "_view_count": null,
            "_view_module": "@jupyter-widgets/base",
            "_view_module_version": "1.2.0",
            "_view_name": "LayoutView",
            "align_content": null,
            "align_items": null,
            "align_self": null,
            "border": null,
            "bottom": null,
            "display": null,
            "flex": null,
            "flex_flow": null,
            "grid_area": null,
            "grid_auto_columns": null,
            "grid_auto_flow": null,
            "grid_auto_rows": null,
            "grid_column": null,
            "grid_gap": null,
            "grid_row": null,
            "grid_template_areas": null,
            "grid_template_columns": null,
            "grid_template_rows": null,
            "height": null,
            "justify_content": null,
            "justify_items": null,
            "left": null,
            "margin": null,
            "max_height": null,
            "max_width": null,
            "min_height": null,
            "min_width": null,
            "object_fit": null,
            "object_position": null,
            "order": null,
            "overflow": null,
            "overflow_x": null,
            "overflow_y": null,
            "padding": null,
            "right": null,
            "top": null,
            "visibility": null,
            "width": null
          }
        },
        "f8aed8d6f140497aa0b12ab0c86729a0": {
          "model_module": "@jupyter-widgets/controls",
          "model_name": "ProgressStyleModel",
          "model_module_version": "1.5.0",
          "state": {
            "_model_module": "@jupyter-widgets/controls",
            "_model_module_version": "1.5.0",
            "_model_name": "ProgressStyleModel",
            "_view_count": null,
            "_view_module": "@jupyter-widgets/base",
            "_view_module_version": "1.2.0",
            "_view_name": "StyleView",
            "bar_color": null,
            "description_width": ""
          }
        },
        "df3c86cec9bd4f52a90cb2d4e444de96": {
          "model_module": "@jupyter-widgets/base",
          "model_name": "LayoutModel",
          "model_module_version": "1.2.0",
          "state": {
            "_model_module": "@jupyter-widgets/base",
            "_model_module_version": "1.2.0",
            "_model_name": "LayoutModel",
            "_view_count": null,
            "_view_module": "@jupyter-widgets/base",
            "_view_module_version": "1.2.0",
            "_view_name": "LayoutView",
            "align_content": null,
            "align_items": null,
            "align_self": null,
            "border": null,
            "bottom": null,
            "display": null,
            "flex": null,
            "flex_flow": null,
            "grid_area": null,
            "grid_auto_columns": null,
            "grid_auto_flow": null,
            "grid_auto_rows": null,
            "grid_column": null,
            "grid_gap": null,
            "grid_row": null,
            "grid_template_areas": null,
            "grid_template_columns": null,
            "grid_template_rows": null,
            "height": null,
            "justify_content": null,
            "justify_items": null,
            "left": null,
            "margin": null,
            "max_height": null,
            "max_width": null,
            "min_height": null,
            "min_width": null,
            "object_fit": null,
            "object_position": null,
            "order": null,
            "overflow": null,
            "overflow_x": null,
            "overflow_y": null,
            "padding": null,
            "right": null,
            "top": null,
            "visibility": null,
            "width": null
          }
        },
        "dd7568908a714e0793534a4fe07cf012": {
          "model_module": "@jupyter-widgets/controls",
          "model_name": "DescriptionStyleModel",
          "model_module_version": "1.5.0",
          "state": {
            "_model_module": "@jupyter-widgets/controls",
            "_model_module_version": "1.5.0",
            "_model_name": "DescriptionStyleModel",
            "_view_count": null,
            "_view_module": "@jupyter-widgets/base",
            "_view_module_version": "1.2.0",
            "_view_name": "StyleView",
            "description_width": ""
          }
        }
      }
    }
  },
  "cells": [
    {
      "cell_type": "markdown",
      "metadata": {
        "id": "view-in-github",
        "colab_type": "text"
      },
      "source": [
        "<a href=\"https://colab.research.google.com/github/mshokarimo7/pedestrian_dynamics_estimation/blob/main/Copy_of_how_to_track_and_count_vehicles_with_yolov8.ipynb\" target=\"_parent\"><img src=\"https://colab.research.google.com/assets/colab-badge.svg\" alt=\"Open In Colab\"/></a>"
      ]
    },
    {
      "cell_type": "code",
      "execution_count": null,
      "metadata": {
        "colab": {
          "base_uri": "https://localhost:8080/"
        },
        "id": "c4okzdHlKMaj",
        "outputId": "d99530f4-c8ef-45a8-b1c8-97212bbe1c19"
      },
      "outputs": [
        {
          "output_type": "stream",
          "name": "stdout",
          "text": [
            "Tue Jan 30 15:12:38 2024       \n",
            "+---------------------------------------------------------------------------------------+\n",
            "| NVIDIA-SMI 535.104.05             Driver Version: 535.104.05   CUDA Version: 12.2     |\n",
            "|-----------------------------------------+----------------------+----------------------+\n",
            "| GPU  Name                 Persistence-M | Bus-Id        Disp.A | Volatile Uncorr. ECC |\n",
            "| Fan  Temp   Perf          Pwr:Usage/Cap |         Memory-Usage | GPU-Util  Compute M. |\n",
            "|                                         |                      |               MIG M. |\n",
            "|=========================================+======================+======================|\n",
            "|   0  Tesla T4                       Off | 00000000:00:04.0 Off |                    0 |\n",
            "| N/A   33C    P8               8W /  70W |      0MiB / 15360MiB |      0%      Default |\n",
            "|                                         |                      |                  N/A |\n",
            "+-----------------------------------------+----------------------+----------------------+\n",
            "                                                                                         \n",
            "+---------------------------------------------------------------------------------------+\n",
            "| Processes:                                                                            |\n",
            "|  GPU   GI   CI        PID   Type   Process name                            GPU Memory |\n",
            "|        ID   ID                                                             Usage      |\n",
            "|=======================================================================================|\n",
            "|  No running processes found                                                           |\n",
            "+---------------------------------------------------------------------------------------+\n"
          ]
        }
      ],
      "source": [
        "!nvidia-smi"
      ]
    },
    {
      "cell_type": "code",
      "source": [
        "import os\n",
        "%cd /content\n",
        "HOME = os.getcwd()\n",
        "print(HOME)\n",
        "#Setting the Drive to upload the dataset and setting the Source Video Path\n",
        "from google.colab import drive\n",
        "drive.mount('/content/drive')"
      ],
      "metadata": {
        "colab": {
          "base_uri": "https://localhost:8080/"
        },
        "id": "984J4pv4K2D-",
        "outputId": "35e3a60a-5052-41c3-cabe-a51da003c2f1"
      },
      "execution_count": null,
      "outputs": [
        {
          "output_type": "stream",
          "name": "stdout",
          "text": [
            "/content\n",
            "/content\n",
            "Mounted at /content/drive\n"
          ]
        }
      ]
    },
    {
      "cell_type": "code",
      "source": [
        "# Pip install method (recommended)\n",
        "\n",
        "!pip install ultralytics==8.0.17\n",
        "\n",
        "from IPython import display\n",
        "display.clear_output()\n",
        "\n",
        "import ultralytics\n",
        "ultralytics.checks()"
      ],
      "metadata": {
        "id": "IGckxTNGLKDh",
        "colab": {
          "base_uri": "https://localhost:8080/"
        },
        "outputId": "a80c2fa5-5ed1-4c39-dc2c-6300f9d54ad5"
      },
      "execution_count": null,
      "outputs": [
        {
          "output_type": "stream",
          "name": "stderr",
          "text": [
            "Ultralytics YOLOv8.0.17 🚀 Python-3.10.12 torch-2.1.0+cu121 CUDA:0 (Tesla T4, 15102MiB)\n",
            "Setup complete ✅ (2 CPUs, 12.7 GB RAM, 26.3/78.2 GB disk)\n"
          ]
        }
      ]
    },
    {
      "cell_type": "markdown",
      "source": [
        "## Install ByteTrack"
      ],
      "metadata": {
        "id": "0e1ilpTlovJz"
      }
    },
    {
      "cell_type": "code",
      "source": [
        "%cd {HOME}\n",
        "!git clone https://github.com/ifzhang/ByteTrack.git\n",
        "%cd {HOME}/ByteTrack\n",
        "\n",
        "# workaround related to https://github.com/roboflow/notebooks/issues/80\n",
        "!sed -i 's/onnx==1.8.1/onnx==1.9.0/g' requirements.txt\n",
        "\n",
        "!pip3 install -q -r requirements.txt\n",
        "!python3 setup.py -q develop\n",
        "!pip install -q cython_bbox\n",
        "!pip install -q onemetric\n",
        "# workaround related to https://github.com/roboflow/notebooks/issues/112 and https://github.com/roboflow/notebooks/issues/106\n",
        "!pip install -q loguru lap thop\n",
        "\n",
        "from IPython import display\n",
        "display.clear_output()\n",
        "\n",
        "import sys\n",
        "sys.path.append(f\"{HOME}/ByteTrack\")\n",
        "\n",
        "import yolox\n",
        "print(\"yolox.__version__:\", yolox.__version__)"
      ],
      "metadata": {
        "id": "8KdBkOflo2xY",
        "colab": {
          "base_uri": "https://localhost:8080/"
        },
        "outputId": "a5be7eac-6490-4902-bd20-861c938c90b1"
      },
      "execution_count": null,
      "outputs": [
        {
          "output_type": "stream",
          "name": "stdout",
          "text": [
            "yolox.__version__: 0.1.0\n"
          ]
        }
      ]
    },
    {
      "cell_type": "code",
      "source": [
        "from yolox.tracker.byte_tracker import BYTETracker, STrack\n",
        "from onemetric.cv.utils.iou import box_iou_batch\n",
        "from dataclasses import dataclass\n",
        "\n",
        "\n",
        "@dataclass(frozen=True)\n",
        "class BYTETrackerArgs:\n",
        "    track_thresh: float = 0.25\n",
        "    track_buffer: int = 30\n",
        "    match_thresh: float = 0.8\n",
        "    aspect_ratio_thresh: float = 3.0\n",
        "    min_box_area: float = 1.0\n",
        "    mot20: bool = False"
      ],
      "metadata": {
        "id": "rwg-lY49o7Sf"
      },
      "execution_count": null,
      "outputs": []
    },
    {
      "cell_type": "markdown",
      "source": [
        "## Install Roboflow Supervision"
      ],
      "metadata": {
        "id": "_kSHFj8uQ9qe"
      }
    },
    {
      "cell_type": "code",
      "source": [
        "!pip install supervision==0.1.0\n",
        "\n",
        "from IPython import display\n",
        "display.clear_output()\n",
        "\n",
        "import supervision\n",
        "print(\"supervision.__version__:\", supervision.__version__)"
      ],
      "metadata": {
        "id": "d60yX_PFQ9A2",
        "colab": {
          "base_uri": "https://localhost:8080/"
        },
        "outputId": "c51a376e-df1e-4fab-c233-3eaa8b093ff6"
      },
      "execution_count": null,
      "outputs": [
        {
          "output_type": "stream",
          "name": "stdout",
          "text": [
            "supervision.__version__: 0.1.0\n"
          ]
        }
      ]
    },
    {
      "cell_type": "code",
      "source": [
        "from supervision.draw.color import ColorPalette\n",
        "from supervision.geometry.dataclasses import Point\n",
        "from supervision.video.dataclasses import VideoInfo\n",
        "from supervision.video.source import get_video_frames_generator\n",
        "from supervision.video.sink import VideoSink\n",
        "from supervision.notebook.utils import show_frame_in_notebook\n",
        "from supervision.tools.detections import Detections, BoxAnnotator\n",
        "from supervision.tools.line_counter import LineCounter, LineCounterAnnotator\n",
        "from tqdm.notebook import tqdm\n",
        "import cv2\n",
        "import csv"
      ],
      "metadata": {
        "id": "7YDohOpMTWH5"
      },
      "execution_count": null,
      "outputs": []
    },
    {
      "cell_type": "markdown",
      "source": [
        "## Tracking utils"
      ],
      "metadata": {
        "id": "mPdB-v_hWxBy"
      }
    },
    {
      "cell_type": "code",
      "source": [
        "from typing import List\n",
        "import numpy as np\n",
        "\n",
        "# converts Detections into format that can be consumed by match_detections_with_tracks function\n",
        "def detections2boxes(detections: Detections) -> np.ndarray:\n",
        "    return np.hstack((\n",
        "        detections.xyxy,\n",
        "        detections.confidence[:, np.newaxis]\n",
        "    ))\n",
        "\n",
        "\n",
        "# converts List[STrack] into format that can be consumed by match_detections_with_tracks function\n",
        "def tracks2boxes(tracks: List[STrack]) -> np.ndarray:\n",
        "    return np.array([\n",
        "        track.tlbr\n",
        "        for track\n",
        "        in tracks\n",
        "    ], dtype=float)\n",
        "\n",
        "\n",
        "# matches our bounding boxes with predictions\n",
        "def match_detections_with_tracks(\n",
        "    detections: Detections,\n",
        "    tracks: List[STrack]\n",
        ") -> Detections:\n",
        "    if not np.any(detections.xyxy) or len(tracks) == 0:\n",
        "        return np.empty((0,))\n",
        "\n",
        "    tracks_boxes = tracks2boxes(tracks=tracks)\n",
        "    iou = box_iou_batch(tracks_boxes, detections.xyxy)\n",
        "    track2detection = np.argmax(iou, axis=1)\n",
        "\n",
        "    tracker_ids = [None] * len(detections)\n",
        "\n",
        "    for tracker_index, detection_index in enumerate(track2detection):\n",
        "        if iou[tracker_index, detection_index] != 0:\n",
        "            tracker_ids[detection_index] = tracks[tracker_index].track_id\n",
        "\n",
        "    return tracker_ids"
      ],
      "metadata": {
        "id": "SE0G6LvFAXlk"
      },
      "execution_count": null,
      "outputs": []
    },
    {
      "cell_type": "markdown",
      "source": [
        "## Load pre-trained YOLOv8 model"
      ],
      "metadata": {
        "id": "c_417m4g9XVd"
      }
    },
    {
      "cell_type": "code",
      "source": [
        "# settings\n",
        "MODEL = \"yolov8x.pt\""
      ],
      "metadata": {
        "id": "m3FMq5FcUsRc"
      },
      "execution_count": null,
      "outputs": []
    },
    {
      "cell_type": "code",
      "source": [
        "from ultralytics import YOLO\n",
        "\n",
        "model = YOLO(MODEL)\n",
        "model.fuse()"
      ],
      "metadata": {
        "id": "KFCV_2TR9eo_",
        "colab": {
          "base_uri": "https://localhost:8080/"
        },
        "outputId": "f8882e78-4dc1-4b54-c090-cd23d6c7928a"
      },
      "execution_count": null,
      "outputs": [
        {
          "output_type": "stream",
          "name": "stderr",
          "text": [
            "Downloading https://github.com/ultralytics/assets/releases/download/v0.0.0/yolov8x.pt to yolov8x.pt...\n",
            "100%|██████████| 131M/131M [00:00<00:00, 188MB/s]\n",
            "\n",
            "YOLOv8x summary (fused): 268 layers, 68200608 parameters, 0 gradients, 257.8 GFLOPs\n"
          ]
        }
      ]
    },
    {
      "cell_type": "code",
      "source": [
        "CLASS_NAMES_DICT = model.model.names\n",
        "CLASS_ID = [0]"
      ],
      "metadata": {
        "id": "djO-RbaFA2T7"
      },
      "execution_count": null,
      "outputs": []
    },
    {
      "cell_type": "markdown",
      "source": [
        "##Run on a single video"
      ],
      "metadata": {
        "id": "GDZPhB9kAAi3"
      }
    },
    {
      "cell_type": "code",
      "source": [
        "JAAD_PATH = f\"{HOME}/drive/MyDrive/MOT15\"\n",
        "video_file = \"TUD-Stadtmitte.mkv\"\n",
        "SOURCE_VIDEO_PATH = os.path.join(JAAD_PATH, video_file)\n",
        "video_name = os.path.basename(SOURCE_VIDEO_PATH)\n",
        "print(video_name)\n",
        "TARGET_VIDEO_PATH = f\"{HOME}/drive/MyDrive/TrackerOutputs/SingleVideo/{video_name}\" # video file path where the tracker outputs video\n",
        "output_csv_file = f\"{HOME}/drive/MyDrive/CSVOutputs/SingleVideo/{video_name}.csv\" # cSV file path of the tracker outputs\n",
        "\n",
        "# defining the CSV column names\n",
        "csv_columns = [\n",
        "    '<frame>',\n",
        "    '<id>',\n",
        "    '<bb_left>',\n",
        "    '<bb_top>',\n",
        "    '<bb_width>',\n",
        "    '<bb_height>',\n",
        "    '<conf>',\n",
        "    '<x>',\n",
        "    '<y>',\n",
        "    '<z>'\n",
        "]\n",
        "\n",
        "# opening the CSV file for writing\n",
        "csv_file = open(output_csv_file, 'w', newline='')\n",
        "csv_writer = csv.DictWriter(csv_file, fieldnames=csv_columns)\n",
        "\n",
        "# writing the header row\n",
        "csv_writer.writeheader()\n",
        "\n",
        "# BYTETracker running\n",
        "byte_tracker = BYTETracker(BYTETrackerArgs())\n",
        "generator = get_video_frames_generator(SOURCE_VIDEO_PATH)\n",
        "\n",
        "box_annotator = BoxAnnotator(color=ColorPalette(), thickness=1, text_thickness=1, text_scale=0.4)\n",
        "\n",
        "video_info = VideoInfo.from_video_path(SOURCE_VIDEO_PATH)\n",
        "\n",
        "with VideoSink(TARGET_VIDEO_PATH, video_info) as sink:\n",
        "  for frame in tqdm(generator, total=video_info.total_frames):\n",
        "        results = model(frame)[0]\n",
        "        \"\"\"\n",
        "        Creating a detections variable which finds the\n",
        "        XY coordinates of objects,\n",
        "        confidence in the detected object\n",
        "        class id of the object, in this snipped of code -> enumerated id from the YOLO models\n",
        "        \"\"\"\n",
        "        detections = Detections(\n",
        "            xyxy=results.boxes.xyxy.cpu().numpy(),\n",
        "            confidence=results.boxes.conf.cpu().numpy(),\n",
        "            class_id=results.boxes.cls.cpu().numpy().astype(int)\n",
        "        )\n",
        "\n",
        "        # filtering out detections with unwanted classes\n",
        "        mask = np.array([class_id in CLASS_ID for class_id in detections.class_id], dtype=bool)\n",
        "        detections.filter(mask=mask, inplace=True)\n",
        "\n",
        "        # where we are actually using ByteTrack to track the objects\n",
        "        tracks = byte_tracker.update(\n",
        "            output_results=detections2boxes(detections=detections),\n",
        "            img_info=frame.shape,\n",
        "            img_size=frame.shape\n",
        "        )\n",
        "\n",
        "        # where we make the iou and choose detection bboxes that are closest to tracklet bboxes and save their tracker_id\n",
        "        tracker_id = match_detections_with_tracks(detections=detections, tracks=tracks)\n",
        "        detections.tracker_id = np.array(tracker_id)\n",
        "\n",
        "        # filtering out detections without trackers --- THE TWO LINES BELOW SOLVED THE TRICK WITH\n",
        "        # THE FRAMES NOT BEING ABLE TO RUN PAST 18 frames \"IndexError: index 0 is out of bounds for axis 0 with size 0\"\n",
        "        mask = np.array([tracker_id is not None for tracker_id in detections.tracker_id], dtype=bool)\n",
        "        detections.filter(mask=mask, inplace=True)\n",
        "\n",
        "\n",
        "        \"\"\" recreating a new list of rearranged tracklets according to the tracker_id array\n",
        "        creating a dictionary to map 'track_id' values to their corresponding objects \"\"\"\n",
        "        track_id_to_object = {track.track_id: track for track in tracks}\n",
        "\n",
        "        # a list to store rearranged objects\n",
        "        rearranged_tracks = []\n",
        "\n",
        "        # iterating through the 'tracker_id' array\n",
        "        for tracker_ids in tracker_id:\n",
        "            # checking if theres a corresponding object in the dictionary\n",
        "            if tracker_ids in track_id_to_object:\n",
        "                # appending the object to the list of rearranged objects\n",
        "                rearranged_tracks.append(track_id_to_object[tracker_ids])\n",
        "                # removing the object from the dictionary to avoid duplicates\n",
        "                del track_id_to_object[tracker_ids]\n",
        "        # rearranged_tracks contains the objects sorted based on the 'tracker_id' array\n",
        "\n",
        "        xyz = -1\n",
        "        # iterating through rearranged_tracks and writing each STrack to the CSV file\n",
        "        for track in rearranged_tracks:\n",
        "          # extracting the values we want from the tracklet\n",
        "          frame_csv = track.frame_id\n",
        "          track_id = track.track_id\n",
        "          # extracting the 'tlwh' instead of '_tlwh' makes the accuracy much better\n",
        "          tlwh = track.tlwh\n",
        "          score = track.score\n",
        "          # extracting individual values for bb_left, bb_top, bb_width, and bb_height\n",
        "          # tlwh - top left width height\n",
        "          bb_left, bb_top, bb_width, bb_height = tlwh[0], tlwh[1], tlwh[2], tlwh[3]\n",
        "          # creating a dictionary to represent the row to write into our csv file\n",
        "          row = {\n",
        "              '<frame>': frame_csv,\n",
        "              '<id>': track_id,\n",
        "              '<bb_left>': bb_left,\n",
        "              '<bb_top>': bb_top,\n",
        "              '<bb_width>': bb_width,\n",
        "              '<bb_height>': bb_height,\n",
        "              '<conf>': score,\n",
        "              '<x>': xyz,\n",
        "              '<y>': xyz,\n",
        "              '<z>': xyz\n",
        "          }\n",
        "          # writing the row to the CSV file\n",
        "          csv_writer.writerow(row)\n",
        "\n",
        "        labels = [\n",
        "            f\"#{tracker_id} {CLASS_NAMES_DICT[class_id]} {confidence:0.2f}\"\n",
        "            for _, confidence, class_id, tracker_id\n",
        "            in detections\n",
        "        ]\n",
        "\n",
        "        rearranged_tracks.clear()\n",
        "        frame = box_annotator.annotate(frame=frame, detections=detections, labels=labels)\n",
        "        sink.write_frame(frame)\n",
        "\n",
        "csv_file.close()"
      ],
      "metadata": {
        "colab": {
          "base_uri": "https://localhost:8080/",
          "height": 66,
          "referenced_widgets": [
            "19f980bca42e405bab7cec838235db3b",
            "a6144b6e34fc4b9c90f9425cf970da75",
            "99eb6a8a8d4a4428a48e5a3deb80ff90",
            "fddb1376a613433cb3b0c9c212502fae",
            "cda3e315c8e342608027a9718d388fb0",
            "e997461688584db79337cfbcb216da72",
            "8b8bb1a3f62f4a199fab9945ffba4dbf",
            "a6a716a6cac24adf894f86b32a233433",
            "f8aed8d6f140497aa0b12ab0c86729a0",
            "df3c86cec9bd4f52a90cb2d4e444de96",
            "dd7568908a714e0793534a4fe07cf012"
          ]
        },
        "id": "EUpE0EqDueUi",
        "outputId": "14fa04e3-3f3e-49ef-c458-12b207596211"
      },
      "execution_count": null,
      "outputs": [
        {
          "output_type": "stream",
          "name": "stdout",
          "text": [
            "TUD-Stadtmitte.mkv\n"
          ]
        },
        {
          "output_type": "display_data",
          "data": {
            "text/plain": [
              "  0%|          | 0/179 [00:00<?, ?it/s]"
            ],
            "application/vnd.jupyter.widget-view+json": {
              "version_major": 2,
              "version_minor": 0,
              "model_id": "19f980bca42e405bab7cec838235db3b"
            }
          },
          "metadata": {}
        }
      ]
    },
    {
      "cell_type": "markdown",
      "source": [
        "##Run on all the videos"
      ],
      "metadata": {
        "id": "4Kox0oyMJ5bQ"
      }
    },
    {
      "cell_type": "code",
      "source": [
        "JAAD_PATH = f\"{HOME}/drive/MyDrive/JAAD/JAAD_clips\"\n",
        "video_files = [file for file in os.listdir(JAAD_PATH) if file.endswith(\".mp4\")]\n",
        "\n",
        "for video_file in video_files:\n",
        "    # clearing variables just in case we have trailing ones after each video iteration\n",
        "    video_name = None\n",
        "    SOURCE_VIDEO_PATH = None\n",
        "    TARGET_VIDEO_PATH = None\n",
        "    output_csv_file = None\n",
        "    csv_file = None\n",
        "    csv_writer = None\n",
        "    csv_columns = None\n",
        "    byte_tracker = None\n",
        "    generator = None\n",
        "    box_annotator = None\n",
        "    video_info = None\n",
        "    results = None\n",
        "    detections = None\n",
        "    mask = None\n",
        "    tracks = None\n",
        "    tracker_id = None\n",
        "    track_id_to_object = None\n",
        "    rearranged_tracks = None\n",
        "    labels = None\n",
        "\n",
        "    # creating proper paths\n",
        "    SOURCE_VIDEO_PATH = os.path.join(JAAD_PATH, video_file)\n",
        "    video_name = os.path.basename(SOURCE_VIDEO_PATH)\n",
        "    print(video_name)\n",
        "    TARGET_VIDEO_PATH = f\"{HOME}/drive/MyDrive/TrackerOutputs/{video_name}\" # video file path where the tracker outputs video\n",
        "    output_csv_file = f\"{HOME}/drive/MyDrive/CSVOutputs/{video_name}.csv\" # CSV file path of the tracker outputs\n",
        "\n",
        "    # defining the CSV column names\n",
        "    csv_columns = [\n",
        "        '<frame>',\n",
        "        '<id>',\n",
        "        '<bb_left>',\n",
        "        '<bb_top>',\n",
        "        '<bb_width>',\n",
        "        '<bb_height>',\n",
        "        '<conf>',\n",
        "        '<x>',\n",
        "        '<y>',\n",
        "        '<z>'\n",
        "    ]\n",
        "\n",
        "    # opening the CSV file for writing\n",
        "    csv_file = open(output_csv_file, 'w', newline='')\n",
        "    csv_writer = csv.DictWriter(csv_file, fieldnames=csv_columns)\n",
        "\n",
        "    # writing the header row\n",
        "    csv_writer.writeheader()\n",
        "\n",
        "    # creating the BYTETracker variable for later runtime\n",
        "    byte_tracker = BYTETracker(BYTETrackerArgs())\n",
        "    generator = get_video_frames_generator(SOURCE_VIDEO_PATH)\n",
        "\n",
        "    box_annotator = BoxAnnotator(color=ColorPalette(), thickness=1, text_thickness=1, text_scale=0.4)\n",
        "\n",
        "    video_info = VideoInfo.from_video_path(SOURCE_VIDEO_PATH)\n",
        "\n",
        "    # looping over the frames\n",
        "    with VideoSink(TARGET_VIDEO_PATH, video_info) as sink:\n",
        "      for frame in tqdm(generator, total=video_info.total_frames):\n",
        "        results = model(frame)[0]\n",
        "        \"\"\"\n",
        "        Creating a detections variable which finds the\n",
        "        XY coordinates of objects,\n",
        "        confidence in the detected object,\n",
        "        class id of the object, in this snippet of code -> enumerated id from the YOLO models\n",
        "        \"\"\"\n",
        "        detections = Detections(\n",
        "            xyxy=results.boxes.xyxy.cpu().numpy(),\n",
        "            confidence=results.boxes.conf.cpu().numpy(),\n",
        "            class_id=results.boxes.cls.cpu().numpy().astype(int)\n",
        "        )\n",
        "\n",
        "        # filtering out detections with unwanted classes\n",
        "        mask = np.array([class_id in CLASS_ID for class_id in detections.class_id], dtype=bool)\n",
        "        detections.filter(mask=mask, inplace=True)\n",
        "\n",
        "        # using ByteTrack to track the objects, and storing the tracklets\n",
        "        tracks = byte_tracker.update(\n",
        "            output_results=detections2boxes(detections=detections),\n",
        "            img_info=frame.shape,\n",
        "            img_size=frame.shape\n",
        "        )\n",
        "\n",
        "        # matching the tracklet bounding boxes with the detections' bounding boxes\n",
        "        tracker_id = match_detections_with_tracks(detections=detections, tracks=tracks)\n",
        "        detections.tracker_id = np.array(tracker_id)\n",
        "\n",
        "        # getting rid of detections that are not being tracked\n",
        "        mask = np.array([tracker_id is not None for tracker_id in detections.tracker_id], dtype=bool)\n",
        "        detections.filter(mask=mask, inplace=True)\n",
        "\n",
        "        \"\"\"\n",
        "        recreating a new list of rearranged tracklets according to the tracker_id array\n",
        "        creating a dictionary to map 'track_id' values to their corresponding objects\n",
        "        \"\"\"\n",
        "        track_id_to_object = {track.track_id: track for track in tracks}\n",
        "\n",
        "        # creating a list to store rearranged objects\n",
        "        rearranged_tracks = []\n",
        "\n",
        "        # iterating through the 'tracker_id' array\n",
        "        for tracker_ids in tracker_id:\n",
        "            # checking if theres a corresponding object in the dictionary\n",
        "            if tracker_ids in track_id_to_object:\n",
        "                # appending the object to the list of rearranged objects\n",
        "                rearranged_tracks.append(track_id_to_object[tracker_ids])\n",
        "                # removing the object from the dictionary to avoid duplicates\n",
        "                del track_id_to_object[tracker_ids]\n",
        "        # rearranged_tracks contains the objects sorted based on the 'tracker_id' array\n",
        "\n",
        "\n",
        "        xyz = -1\n",
        "        # iterating through rearranged_tracks and writing each STrack to the CSV file\n",
        "        for track in rearranged_tracks:\n",
        "          # extracting the values we want from the tracklet\n",
        "          frame_csv = track.frame_id\n",
        "          track_id = track.track_id\n",
        "          # extracting the 'tlwh' instead of '_tlwh' makes the accuracy much better\n",
        "          tlwh = track.tlwh\n",
        "          score = track.score\n",
        "          # extracting individual values for bb_left, bb_top, bb_width, and bb_height\n",
        "          # tlwh -> top left width height\n",
        "          bb_left, bb_top, bb_width, bb_height = tlwh[0], tlwh[1], tlwh[2], tlwh[3]\n",
        "          # creating a dictionary to represent the row to write into our csv file\n",
        "          row = {\n",
        "              '<frame>': frame_csv,\n",
        "              '<id>': track_id,\n",
        "              '<bb_left>': bb_left,\n",
        "              '<bb_top>': bb_top,\n",
        "              '<bb_width>': bb_width,\n",
        "              '<bb_height>': bb_height,\n",
        "              '<conf>': score,\n",
        "              '<x>': xyz,\n",
        "              '<y>': xyz,\n",
        "              '<z>': xyz\n",
        "          }\n",
        "          # writing the row to the CSV file\n",
        "          csv_writer.writerow(row)\n",
        "\n",
        "        labels = [\n",
        "            f\"#{tracker_id} {CLASS_NAMES_DICT[class_id]} {confidence:0.2f}\"\n",
        "            for _, confidence, class_id, tracker_id\n",
        "            in detections\n",
        "        ]\n",
        "        rearranged_tracks.clear()\n",
        "        frame = box_annotator.annotate(frame=frame, detections=detections, labels=labels)\n",
        "        sink.write_frame(frame)\n",
        "\n",
        "    csv_file.close()"
      ],
      "metadata": {
        "id": "I0QEgxXy8jpd"
      },
      "execution_count": null,
      "outputs": []
    },
    {
      "cell_type": "markdown",
      "source": [
        "##Calculate Pedestrian speeds from detections and visualize on a video(bounding box format, without euclidian distance)"
      ],
      "metadata": {
        "id": "AAQxJUuGJ-B9"
      }
    },
    {
      "cell_type": "code",
      "source": [
        "JAAD_PATH = f\"{HOME}/drive/MyDrive/JAAD/JAAD_clips\"\n",
        "video_file = \"video_0001.mp4\"\n",
        "SOURCE_VIDEO_PATH = os.path.join(JAAD_PATH, video_file)\n",
        "video_name = os.path.basename(SOURCE_VIDEO_PATH)\n",
        "print(video_name)\n",
        "TARGET_VIDEO_PATH = f\"{HOME}/without_euclid.mp4\"\n",
        "\n",
        "# BYTETracker running\n",
        "byte_tracker = BYTETracker(BYTETrackerArgs())\n",
        "generator = get_video_frames_generator(SOURCE_VIDEO_PATH)\n",
        "\n",
        "box_annotator = BoxAnnotator(color=ColorPalette(), thickness=1, text_thickness=1, text_scale=0.4)\n",
        "\n",
        "video_info = VideoInfo.from_video_path(SOURCE_VIDEO_PATH)\n",
        "\n",
        "prev_detections = None\n",
        "\n",
        "with VideoSink(TARGET_VIDEO_PATH, video_info) as sink:\n",
        "    with open(f'{HOME}/output.txt', 'w') as f:\n",
        "        for frame in tqdm(generator, total=video_info.total_frames):\n",
        "            results = model(frame)[0]\n",
        "            \"\"\"\n",
        "            Creating a detections variable which finds the\n",
        "            XY coordinates of objects,\n",
        "            confidence in the detected object\n",
        "            class id of the object, in this snipped of code -> enumerated id from the YOLO models\n",
        "            \"\"\"\n",
        "            detections = Detections(\n",
        "                xyxy=results.boxes.xyxy.cpu().numpy(),\n",
        "                confidence=results.boxes.conf.cpu().numpy(),\n",
        "                class_id=results.boxes.cls.cpu().numpy().astype(int)\n",
        "            )\n",
        "\n",
        "            # filtering out detections with unwanted classes\n",
        "            mask = np.array([class_id in CLASS_ID for class_id in detections.class_id], dtype=bool)\n",
        "            detections.filter(mask=mask, inplace=True)\n",
        "\n",
        "            # where we are actually using ByteTrack to track the objects\n",
        "            tracks = byte_tracker.update(\n",
        "                output_results=detections2boxes(detections=detections),\n",
        "                img_info=frame.shape,\n",
        "                img_size=frame.shape\n",
        "            )\n",
        "\n",
        "            tracker_id = match_detections_with_tracks(detections=detections, tracks=tracks)\n",
        "            detections.tracker_id = np.array(tracker_id)\n",
        "\n",
        "            # filtering out detections without trackers --- THE TWO LINES BELOW SOLVED THE TRICK WITH\n",
        "            # THE FRAMES NOT BEING ABLE TO RUN PAST 18 frames \"IndexError: index 0 is out of bounds for axis 0 with size 0\"\n",
        "            mask = np.array([tracker_id is not None for tracker_id in detections.tracker_id], dtype=bool)\n",
        "            detections.filter(mask=mask, inplace=True)\n",
        "\n",
        "            # dictionary to store the bbox difference\n",
        "            xyxy_diff_dict = {}\n",
        "\n",
        "            if prev_detections is not None:\n",
        "                # creating a dictionary, mapping tracker_id to xyxy for prev_detections\n",
        "                prev_dict = {detection[-1]: detection[0] for detection in prev_detections}\n",
        "\n",
        "                # creating a dictionary, mapping tracker_id to xyxy for detections\n",
        "                current_dict = {detection[-1]: detection[0] for detection in detections}\n",
        "\n",
        "                \"\"\"\n",
        "                For each tracker_id in current detections, if it also exists in prev_detections,\n",
        "                calculate the difference between the xyxy values\n",
        "                \"\"\"\n",
        "\n",
        "                for tracker_id in current_dict:\n",
        "                    if tracker_id in prev_dict:\n",
        "                        xyxy_diff = current_dict[tracker_id] - prev_dict[tracker_id]\n",
        "                        xyxy_diff_dict[tracker_id] = xyxy_diff  # storings xyxy_diff in another dictionary, which is mapped to tracker_id\n",
        "\n",
        "            prev_detections = detections\n",
        "\n",
        "            labels = [\n",
        "                f\"#{tracker_id} {CLASS_NAMES_DICT[class_id]} {confidence:0.2f} xyxy_diff = {xyxy_diff_dict.get(tracker_id)}\"\n",
        "                for _, confidence, class_id, tracker_id\n",
        "                in detections\n",
        "            ]\n",
        "\n",
        "            frame = box_annotator.annotate(frame=frame, detections=detections, labels=labels)\n",
        "            sink.write_frame(frame)"
      ],
      "metadata": {
        "id": "iVJ-lg8EJ9W1"
      },
      "execution_count": null,
      "outputs": []
    },
    {
      "cell_type": "markdown",
      "source": [
        "##Calculate Pedestrian speeds from detections and visualize on a video(bounding box format, with euclidian distance)"
      ],
      "metadata": {
        "id": "ZKRACMhuIXfH"
      }
    },
    {
      "cell_type": "code",
      "source": [
        "import pandas as pd\n",
        "\n",
        "JAAD_PATH = f\"{HOME}/drive/MyDrive/JAAD/JAAD_clips\"\n",
        "video_file = \"video_0001.mp4\"\n",
        "SOURCE_VIDEO_PATH = os.path.join(JAAD_PATH, video_file)\n",
        "video_name = os.path.basename(SOURCE_VIDEO_PATH)\n",
        "print(video_name)\n",
        "TARGET_VIDEO_PATH = f\"{HOME}/output1.mp4\"\n",
        "\n",
        "# BYTETracker running\n",
        "byte_tracker = BYTETracker(BYTETrackerArgs())\n",
        "generator = get_video_frames_generator(SOURCE_VIDEO_PATH)\n",
        "\n",
        "box_annotator = BoxAnnotator(color=ColorPalette.from_hex(['#04b09f']), thickness=1, text_thickness=1, text_scale=0.4)\n",
        "\n",
        "video_info = VideoInfo.from_video_path(SOURCE_VIDEO_PATH)\n",
        "\n",
        "prev_detections = None\n",
        "frame_num = 0\n",
        "# initializing an empty DataFrame to store the results\n",
        "df = pd.DataFrame(columns=['<frame>', '<id>', '<speed>'])\n",
        "\n",
        "with VideoSink(TARGET_VIDEO_PATH, video_info) as sink:\n",
        "    for frame in tqdm(generator, total=video_info.total_frames):\n",
        "        results = model(frame)[0]\n",
        "        \"\"\"\n",
        "        Creating a detections variable which finds the\n",
        "        XY coordinates of objects,\n",
        "        confidence in the detected object\n",
        "        class id of the object, in this snipped of code -> enumerated id from the YOLO models\n",
        "        \"\"\"\n",
        "        detections = Detections(\n",
        "            xyxy=results.boxes.xyxy.cpu().numpy(),\n",
        "            confidence=results.boxes.conf.cpu().numpy(),\n",
        "            class_id=results.boxes.cls.cpu().numpy().astype(int)\n",
        "        )\n",
        "\n",
        "        # filtering out detections with unwanted classes\n",
        "        mask = np.array([class_id in CLASS_ID for class_id in detections.class_id], dtype=bool)\n",
        "        detections.filter(mask=mask, inplace=True)\n",
        "\n",
        "        # where we are actually using ByteTrack to track the objects\n",
        "        tracks = byte_tracker.update(\n",
        "            output_results=detections2boxes(detections=detections),\n",
        "            img_info=frame.shape,\n",
        "            img_size=frame.shape\n",
        "        )\n",
        "\n",
        "        tracker_id = match_detections_with_tracks(detections=detections, tracks=tracks)\n",
        "        detections.tracker_id = np.array(tracker_id)\n",
        "\n",
        "        # filtering out detections without trackers --- THE TWO LINES BELOW SOLVED THE TRICK WITH\n",
        "        # THE FRAMES NOT BEING ABLE TO RUN PAST 18 frames \"IndexError: index 0 is out of bounds for axis 0 with size 0\"\n",
        "        mask = np.array([tracker_id is not None for tracker_id in detections.tracker_id], dtype=bool)\n",
        "        detections.filter(mask=mask, inplace=True)\n",
        "\n",
        "        # dictionary to store the bbox difference\n",
        "        xyxy_diff_dict = {}\n",
        "\n",
        "        #if prev_detections is not empty:\n",
        "        if prev_detections is not None:\n",
        "            # creating a dictionary mapping tracker_id to xyxy for prev_detections\n",
        "            prev_dict = {detection[-1]: detection[0] for detection in prev_detections}\n",
        "\n",
        "            # creating a dictionary mapping tracker_id to xyxy for detections\n",
        "            current_dict = {detection[-1]: detection[0] for detection in detections}\n",
        "\n",
        "\n",
        "            # for each tracker_id in current detections, if it also exists in prev_detections,\n",
        "            # calculate the difference between the xyxy values\n",
        "            for tracker_id in current_dict:\n",
        "                if tracker_id in prev_dict:\n",
        "                    # center of the bbox for the previous frame\n",
        "                    x1, y1, w1, h1 = prev_dict[tracker_id]\n",
        "                    x2, y2 = x1 + w1, y1 + h1\n",
        "                    center_box1 = ((x1 + x2) / 2, (y1 + y2) / 2)\n",
        "\n",
        "                    # center of the bbox for the current frame\n",
        "                    x1_current, y1_current, w1_current, h1_current = current_dict[tracker_id]\n",
        "                    x2_current, y2_current = x1_current + w1_current, y1_current + h1_current\n",
        "                    center_box2 = ((x1_current + x2_current) / 2, (y1_current + y2_current) / 2)\n",
        "\n",
        "                    # calculating the Euclidean distance between the two centers\n",
        "                    xyxy_diff = np.sqrt((center_box2[0] - center_box1[0])**2 + (center_box2[1] - center_box1[1])**2)\n",
        "\n",
        "                    xyxy_diff_dict[tracker_id] = round(xyxy_diff, 4)  # storing xyxy_diff in a dictionary, which is mapped to tracker_id\n",
        "\n",
        "                    # storing the frame number, id, and calculated speed\n",
        "                    df = df.append({'<frame>': frame_num, '<id>': tracker_id, '<speed>': xyxy_diff}, ignore_index=True)\n",
        "\n",
        "        prev_detections = detections\n",
        "        frame_num = frame_num + 1\n",
        "\n",
        "        labels = [\n",
        "            f\"#{tracker_id} {CLASS_NAMES_DICT[class_id]} {confidence:0.2f} speed = {xyxy_diff_dict.get(tracker_id)}\"\n",
        "            for _, confidence, class_id, tracker_id\n",
        "            in detections\n",
        "        ]\n",
        "        frame = box_annotator.annotate(frame=frame, detections=detections, labels=labels)\n",
        "        sink.write_frame(frame)\n",
        "\n",
        "# writing the results DataFrame to a new CSV file\n",
        "df = df.sort_values(by=['<frame>'])\n",
        "df.to_csv(f'{HOME}/speeds.csv', index=False)"
      ],
      "metadata": {
        "id": "ZxNlbj9UISbX"
      },
      "execution_count": null,
      "outputs": []
    },
    {
      "cell_type": "markdown",
      "source": [
        "##Pedestrians speed visualize"
      ],
      "metadata": {
        "id": "2heo7TaaMRZg"
      }
    },
    {
      "cell_type": "code",
      "source": [
        "import matplotlib.pyplot as plt\n",
        "\n",
        "# reading the speeds.csv file\n",
        "df = pd.read_csv(f'{HOME}/speeds.csv')\n",
        "\n",
        "# getting the unique pedestrian ids\n",
        "ids = df['<id>'].unique()\n",
        "\n",
        "# creating a new figure\n",
        "plt.figure()\n",
        "\n",
        "# for each id, plotting the speed over time\n",
        "for id in ids:\n",
        "    id_df = df[df['<id>'] == id]\n",
        "    plt.plot(id_df['<frame>'], id_df['<speed>'], label=f'Pedestrian {id}')\n",
        "\n",
        "# adding a legend, title, and labels\n",
        "plt.legend()\n",
        "plt.title('Speed of each pedestrian over time')\n",
        "plt.xlabel('Frame')\n",
        "plt.ylabel('Speed')\n",
        "\n",
        "plt.show()"
      ],
      "metadata": {
        "id": "OWlIhnEOMQtD",
        "colab": {
          "base_uri": "https://localhost:8080/",
          "height": 472
        },
        "outputId": "eb42262e-3848-4bcd-cb3a-5cdf9bc17412"
      },
      "execution_count": null,
      "outputs": [
        {
          "output_type": "display_data",
          "data": {
            "text/plain": [
              "<Figure size 640x480 with 1 Axes>"
            ],
            "image/png": "[encoded data removed]"
          },
          "metadata": {}
        }
      ]
    },
    {
      "cell_type": "markdown",
      "source": [
        "##Converting the .csv file into .txt file for TrackEval\n",
        "\n",
        "---\n",
        "\n"
      ],
      "metadata": {
        "id": "L_Z5dJNBJvTi"
      }
    },
    {
      "cell_type": "code",
      "source": [
        "# converting the comma seperated CSV file into a text file with Comma separation\n",
        "\n",
        "# for the path values we can either specify the ground truth CSV files or the tracker data CSV files\n",
        "csv_folder = f'{HOME}/drive/MyDrive/CSVOutputs/SingleVideo'\n",
        "output_folder = f'{HOME}/drive/MyDrive/MOT15/TextFormat'\n",
        "\n",
        "for filename in os.listdir(csv_folder):\n",
        "    if filename.endswith(\".csv\"):\n",
        "      csv_file = os.path.join(csv_folder, filename)\n",
        "      txt_file = os.path.join(output_folder, f\"{os.path.splitext(filename)[0].replace('.mkv', '')}.txt\")\n",
        "\n",
        "      # processing the CSV file and save as a text file\n",
        "      with open(txt_file, \"w\") as my_output_file:\n",
        "        with open(csv_file, \"r\") as my_input_file:\n",
        "           [my_output_file.write(\",\".join(row) + '\\n') for row in csv.reader(my_input_file)]\n",
        "\n",
        "      # removing the header from the generated text file\n",
        "      with open(txt_file, 'r') as fin:\n",
        "        data = fin.read().splitlines(True)\n",
        "      with open(txt_file, 'w') as fout:\n",
        "        fout.writelines(data[1:])"
      ],
      "metadata": {
        "id": "WJ2lq7sQ2LDm"
      },
      "execution_count": null,
      "outputs": []
    },
    {
      "cell_type": "markdown",
      "source": [
        "##Creating the folders, subfolders and files inside the TrackEval/data/gt/mot_challenge/JAAD-train folder"
      ],
      "metadata": {
        "id": "WsBtpSCyjhK7"
      }
    },
    {
      "cell_type": "code",
      "source": [
        "# setting the base path\n",
        "base_path = f'{HOME}/drive/MyDrive/TrackEval/data/gt/mot_challenge/JAAD-train'\n",
        "JAAD_PATH = f\"{HOME}/drive/MyDrive/JAAD/JAAD_clips\"\n",
        "\n",
        "# creating folders and files\n",
        "for i in range(1, 347):\n",
        "    video_folder = os.path.join(base_path, f'video_{i:04d}')\n",
        "    gt_folder = os.path.join(video_folder, 'gt')\n",
        "    seqinfo_file = os.path.join(video_folder, 'seqinfo.ini')\n",
        "\n",
        "    # creating the video folders\n",
        "    os.makedirs(video_folder, exist_ok=True)\n",
        "\n",
        "    # creating the gt folders\n",
        "    os.makedirs(gt_folder, exist_ok=True)\n",
        "\n",
        "    # getting video file path\n",
        "    video_file = os.path.join(JAAD_PATH, f'video_{i:04d}.mp4')\n",
        "\n",
        "\n",
        "    # extracting the video info\n",
        "    cap = cv2.VideoCapture(video_file)\n",
        "    frame_rate = cap.get(cv2.CAP_PROP_FPS)\n",
        "    seq_length = int(cap.get(cv2.CAP_PROP_FRAME_COUNT))\n",
        "    im_width = int(cap.get(cv2.CAP_PROP_FRAME_WIDTH))\n",
        "    im_height = int(cap.get(cv2.CAP_PROP_FRAME_HEIGHT))\n",
        "    cap.release()\n",
        "\n",
        "    # creating seqinfo.ini files and populating them\n",
        "    with open(seqinfo_file, 'w') as seqinfo:\n",
        "        seqinfo.write('[Sequence]\\n')\n",
        "        seqinfo.write(f'name=video_{i:04d}\\n')\n",
        "        seqinfo.write('imDir=img1\\n')\n",
        "        seqinfo.write(f'frameRate={frame_rate}\\n')\n",
        "        seqinfo.write(f'seqLength={seq_length}\\n')\n",
        "        seqinfo.write(f'imWidth={im_width}\\n')\n",
        "        seqinfo.write(f'imHeight={im_height}\\n')\n",
        "        seqinfo.write('imExt=.jpg\\n')"
      ],
      "metadata": {
        "id": "ZJlITaJMjgeD"
      },
      "execution_count": null,
      "outputs": []
    },
    {
      "cell_type": "code",
      "source": [
        "import os\n",
        "import shutil\n",
        "\n",
        "# source directory containing the text format CSV files\n",
        "source_directory = f'{HOME}/drive/MyDrive/JAAD/Conversion/TextFormat'\n",
        "\n",
        "# destination directory of ground truth\n",
        "destination_directory = f'{HOME}/drive/MyDrive/TrackEval/data/gt/mot_challenge/JAAD-train'\n",
        "\n",
        "# looping through all subfolders in the destination directory\n",
        "for subfolder in os.listdir(destination_directory):\n",
        "    subfolder_path = os.path.join(destination_directory, subfolder)\n",
        "\n",
        "    # checking if the subfolder has a 'gt' folder\n",
        "    gt_folder_path = os.path.join(subfolder_path, 'gt')\n",
        "    if os.path.exists(gt_folder_path) and os.path.isdir(gt_folder_path):\n",
        "        # creating the source file path based on the subfolder name\n",
        "        source_file_path = os.path.join(source_directory, f\"{subfolder}.txt\")\n",
        "\n",
        "        # creating the destination file path\n",
        "        destination_file_path = os.path.join(gt_folder_path, 'gt.txt')\n",
        "\n",
        "        # checking if the source file exists\n",
        "        if os.path.exists(source_file_path):\n",
        "            # copying the ground truth .txt file to the destination folder\n",
        "            shutil.copy(source_file_path, destination_file_path)\n",
        "            print(f\"copied {source_file_path} to {destination_file_path}\")\n",
        "        else:\n",
        "            print(f\"source file {source_file_path} not found for {subfolder}\")\n",
        "    else:\n",
        "        print(f\"no 'gt' folder found for {subfolder}\")\n"
      ],
      "metadata": {
        "id": "RGnlahs8St6O"
      },
      "execution_count": null,
      "outputs": []
    },
    {
      "cell_type": "markdown",
      "source": [
        "##Creating the subfolderfolders and files inside the TrackEval/data/trackers/mot_challenge/JAAD-train"
      ],
      "metadata": {
        "id": "0KChmNk675A2"
      }
    },
    {
      "cell_type": "code",
      "source": [
        "import shutil\n",
        "# setting the source and destination folders\n",
        "source_folder = f'{HOME}/drive/MyDrive/CSVOutputs/TxtOutputs'\n",
        "destination_folder = f'{HOME}/drive/MyDrive/TrackEval/data/trackers/mot_challenge/JAAD-train/BYTETrack/data'\n",
        "\n",
        "# iterating over each file in the source folder\n",
        "for filename in os.listdir(source_folder):\n",
        "    if filename.endswith('.txt'):\n",
        "        source_file = os.path.join(source_folder, filename)\n",
        "        destination_file = os.path.join(destination_folder, filename)\n",
        "\n",
        "        # copying the file to the destination folder\n",
        "        shutil.copyfile(source_file, destination_file)"
      ],
      "metadata": {
        "id": "qbL2br1a8Dy2"
      },
      "execution_count": null,
      "outputs": []
    },
    {
      "cell_type": "markdown",
      "source": [
        "##Track eval another one"
      ],
      "metadata": {
        "id": "COn0J-F8KZas"
      }
    },
    {
      "cell_type": "code",
      "source": [
        "%cd {HOME}/drive/MyDrive/TrackEval/scripts\n",
        "!python run_mot_challenge.py --BENCHMARK JAAD --SPLIT_TO_EVAL train --TRACKERS_TO_EVAL BYTETrack --METRICS Identity HOTA --USE_PARALLEL False --NUM_PARALLEL_CORES 1 --DO_PREPROC False\n",
        "%cd {HOME}"
      ],
      "metadata": {
        "id": "WZ_A_x22KbqK"
      },
      "execution_count": null,
      "outputs": []
    },
    {
      "cell_type": "markdown",
      "source": [
        "## Running the TrackEval"
      ],
      "metadata": {
        "id": "kpz5VnZiXabq"
      }
    },
    {
      "cell_type": "code",
      "source": [
        "%cd {HOME}/drive/MyDrive/TrackEval/scripts\n",
        "!python run_mot_challenge.py --BENCHMARK JAAD --SPLIT_TO_EVAL train --TRACKERS_TO_EVAL BYTETrack --METRICS Identity CLEAR --USE_PARALLEL False --NUM_PARALLEL_CORES 1 --DO_PREPROC False\n",
        "%cd {HOME}\n"
      ],
      "metadata": {
        "id": "ZypwRqn65rHK"
      },
      "execution_count": null,
      "outputs": []
    },
    {
      "cell_type": "markdown",
      "source": [
        "##Changing the JAAD xml annotations into into CSV Style .txt, so that we are able to feed it as the groundtruth into TrackEval"
      ],
      "metadata": {
        "id": "8xpjGTajIsUI"
      }
    },
    {
      "cell_type": "code",
      "source": [
        "import xml.etree.ElementTree as ET\n",
        "import os\n",
        "import csv\n",
        "\n",
        "# input and output directories\n",
        "input_dir = f'{HOME}/drive/MyDrive/JAAD/annotations'\n",
        "output_dir = f'{HOME}/drive/MyDrive/JAAD/Conversion'\n",
        "\n",
        "# creating the output directory if it doesnt exist\n",
        "os.makedirs(output_dir, exist_ok=True)\n",
        "\n",
        "# function to process each XML file\n",
        "def process_xml_file(xml_file):\n",
        "    tree = ET.parse(xml_file)\n",
        "    root = tree.getroot()\n",
        "\n",
        "    data_list = []\n",
        "\n",
        "    # creating a variable to later map the aplhanumeric ids into integer ids\n",
        "    id_mapping = {}\n",
        "    id_counter = 1\n",
        "\n",
        "    for track in root.findall('.//track'):\n",
        "        if track.get('label') in ['pedestrian', 'ped']:\n",
        "            for box in track.findall('.//box'):\n",
        "                # shifting the frame number to +1 to avoid errors whilst running TrackEval\n",
        "                frame = int(box.get('frame')) + 1\n",
        "                id_element = box.find(\".//attribute[@name='id']\").text\n",
        "\n",
        "                if id_element in id_mapping:\n",
        "                    id_int = id_mapping[id_element]\n",
        "                else:\n",
        "                    id_int = id_counter\n",
        "                    id_mapping[id_element] = id_counter\n",
        "                    id_counter += 1\n",
        "\n",
        "                xbr = box.get('xbr')\n",
        "                xtl = box.get('xtl')\n",
        "                ybr = box.get('ybr')\n",
        "                ytl = box.get('ytl')\n",
        "\n",
        "                new_width = float(xbr) - float(xtl)\n",
        "                new_height = float(ybr) - float(ytl)\n",
        "\n",
        "                occlusion = box.find(\".//attribute[@name='occlusion']\").text\n",
        "                conf = 0 if occlusion == 'full' else 1\n",
        "\n",
        "                data_list.append([frame, id_int, xtl, ytl, new_width, new_height, conf, -1, -1, -1])\n",
        "\n",
        "    data_list.sort(key=lambda x: int(x[0]))\n",
        "\n",
        "    # constructing the output CSV file path\n",
        "    output_csv_file = os.path.join(output_dir, os.path.basename(xml_file).replace('.xml', '.csv'))\n",
        "\n",
        "    # writing the extracted data to a CSV file\n",
        "    with open(output_csv_file, 'w', newline='') as csvfile:\n",
        "        csvwriter = csv.writer(csvfile)\n",
        "        csvwriter.writerow(['frame', 'id', 'bb_left', 'bb_top', 'bb_width', 'bb_height', 'conf', 'x', 'y', 'z'])\n",
        "        csvwriter.writerows(data_list)\n",
        "\n",
        "# iterating through all XML files in the input directory\n",
        "for xml_file_name in os.listdir(input_dir):\n",
        "    if xml_file_name.endswith('.xml'):\n",
        "        xml_file_path = os.path.join(input_dir, xml_file_name)\n",
        "        process_xml_file(xml_file_path)"
      ],
      "metadata": {
        "id": "jVw00mY0FjIY"
      },
      "execution_count": null,
      "outputs": []
    },
    {
      "cell_type": "markdown",
      "source": [
        "##Convert a single JAAD xml annotation file into csv"
      ],
      "metadata": {
        "id": "3TgcsFx9H-QV"
      }
    },
    {
      "cell_type": "code",
      "source": [
        "import xml.etree.ElementTree as ET\n",
        "# parsing the XML file\n",
        "tree = ET.parse('/content/drive/MyDrive/JAAD/annotations/video_0003.xml')\n",
        "root = tree.getroot()\n",
        "\n",
        "# creating a list to store the extracted data\n",
        "data_list = []\n",
        "\n",
        "# creating a variable to later map the aplhanumeric ids into integer ids\n",
        "id_mapping = {}\n",
        "id_counter = 0\n",
        "\n",
        "# iterating through the track elements\n",
        "for track in root.findall('.//track'):\n",
        "    if track.get('label') in ['pedestrian', 'ped']:\n",
        "        for box in track.findall('.//box'):\n",
        "            frame = box.get('frame')\n",
        "            id_element = box.find(\".//attribute[@name='id']\").text\n",
        "\n",
        "            # converting the alphanumeric value of the 'ids' into numeric values\n",
        "            if id_element in id_mapping:\n",
        "              id_int = id_mapping[id_element]\n",
        "            else:\n",
        "              id_int = id_counter\n",
        "              id_mapping[id_element] = id_counter\n",
        "              id_counter += 1\n",
        "\n",
        "            xbr = box.get('xbr')\n",
        "            xtl = box.get('xtl')\n",
        "            ybr = box.get('ybr')\n",
        "            ytl = box.get('ytl')\n",
        "\n",
        "            # changing the bottom right corner coordinates into bbox width and height\n",
        "            new_width = float(xbr) - float(xtl)\n",
        "            new_height = float(ybr) - float(ytl)\n",
        "\n",
        "            # converting the occlusion values into 1 or 0\n",
        "            occlusion = box.find(\".//attribute[@name='occlusion']\").text\n",
        "            conf = 0 if occlusion == 'full' else 1\n",
        "\n",
        "            data_list.append([frame, id_int, xtl, ytl, new_width, new_height, conf, -1, -1, -1])\n",
        "\n",
        "data_list.sort(key=lambda x: int(x[0]))\n",
        "\n",
        "# writing the extracted data to a CSV file\n",
        "with open('/content/drive/MyDrive/JAAD/Conversion/output3.csv', 'w', newline='') as csvfile:\n",
        "    csvwriter = csv.writer(csvfile)\n",
        "    csvwriter.writerow(['frame', 'id', 'bb_left', 'bb_top', 'bb_width', 'bb_height', 'conf', 'x', 'y', 'z'])\n",
        "    csvwriter.writerows(data_list)\n"
      ],
      "metadata": {
        "id": "UkhWyE0u9MLR"
      },
      "execution_count": null,
      "outputs": []
    }
  ]
}